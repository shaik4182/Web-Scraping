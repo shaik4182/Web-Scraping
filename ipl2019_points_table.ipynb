{
 "cells": [
  {
   "cell_type": "code",
   "execution_count": 251,
   "metadata": {},
   "outputs": [],
   "source": [
    "import requests\n",
    "from bs4 import BeautifulSoup\n",
    "import pandas as pd"
   ]
  },
  {
   "cell_type": "code",
   "execution_count": 2,
   "metadata": {},
   "outputs": [],
   "source": [
    "res = requests.get('https://www.iplt20.com/stats/2019')"
   ]
  },
  {
   "cell_type": "code",
   "execution_count": 3,
   "metadata": {},
   "outputs": [],
   "source": [
    "soup = BeautifulSoup(res.text,'html.parser')"
   ]
  },
  {
   "cell_type": "code",
   "execution_count": 17,
   "metadata": {},
   "outputs": [],
   "source": [
    "tbl = soup.find('table',class_='standings-table standings-table--full')"
   ]
  },
  {
   "cell_type": "code",
   "execution_count": 97,
   "metadata": {},
   "outputs": [
    {
     "data": {
      "text/plain": [
       "<table class=\"standings-table standings-table--full\">\n",
       "<tr class=\"standings-table__header\">\n",
       "<th class=\"standings-table__freeze\"></th>\n",
       "<th class=\"u-left-text standings-table__freeze\">Team</th>\n",
       "<th class=\"standings-table__padded\">Pld</th>\n",
       "<th class=\"standings-table__optional\">Won</th>\n",
       "<th class=\"standings-table__optional\">Lost</th>\n",
       "<th class=\"standings-table__optional\">Tied</th>\n",
       "<th class=\"standings-table__optional\">N/R</th>\n",
       "<th>Net RR</th>\n",
       "<th class=\"standings-table__optional\">For</th>\n",
       "<th class=\"standings-table__optional\">Against</th>\n",
       "<th>Pts</th>\n",
       "<th>Form</th>\n",
       "</tr>\n",
       "<tr>\n",
       "<td class=\"standings-table__qualified standings-table__freeze u-text-center\">Q</td>\n",
       "<td class=\"standings-table__team standings-table__freeze\">\n",
       "<i class=\"table__logo tLogo40x32 MI\"></i>\n",
       "<a href=\"/teams/mumbai-indians\">\n",
       "<span class=\"standings-table__team-name js-team\">Mumbai Indians</span>\n",
       "<span class=\"standings-table__team-name standings-table__team-name--short js-team\">MI</span>\n",
       "</a>\n",
       "</td>\n",
       "<td class=\"standings-table__padded\">14</td>\n",
       "<td class=\"standings-table__optional\">9</td>\n",
       "<td class=\"standings-table__optional\">5</td>\n",
       "<td class=\"standings-table__optional\">0</td>\n",
       "<td class=\"standings-table__optional\">0</td>\n",
       "<td>+0.421</td>\n",
       "<td class=\"standings-table__optional\">2,380/275.1</td>\n",
       "<td class=\"standings-table__optional\">2,282/277.2</td>\n",
       "<td class=\"standings-table__highlight js-points\">18</td>\n",
       "<td> <ul class=\"standings-table__form\">\n",
       "<li class=\"standings-table__outcome standings-table__outcome--loss standings-table__optional\">L</li>\n",
       "<li class=\"standings-table__outcome standings-table__outcome--win standings-table__optional\">W</li>\n",
       "<li class=\"standings-table__outcome standings-table__outcome--loss\">L</li>\n",
       "<li class=\"standings-table__outcome standings-table__outcome--win\">W</li>\n",
       "<li class=\"standings-table__outcome standings-table__outcome--win\">W</li>\n",
       "</ul>\n",
       "</td>\n",
       "</tr>\n",
       "<tr>\n",
       "<td class=\"standings-table__qualified standings-table__freeze u-text-center\">Q</td>\n",
       "<td class=\"standings-table__team standings-table__freeze\">\n",
       "<i class=\"table__logo tLogo40x32 CSK\"></i>\n",
       "<a href=\"/teams/chennai-super-kings\">\n",
       "<span class=\"standings-table__team-name js-team\">Chennai Super Kings</span>\n",
       "<span class=\"standings-table__team-name standings-table__team-name--short js-team\">CSK</span>\n",
       "</a>\n",
       "</td>\n",
       "<td class=\"standings-table__padded\">14</td>\n",
       "<td class=\"standings-table__optional\">9</td>\n",
       "<td class=\"standings-table__optional\">5</td>\n",
       "<td class=\"standings-table__optional\">0</td>\n",
       "<td class=\"standings-table__optional\">0</td>\n",
       "<td>+0.131</td>\n",
       "<td class=\"standings-table__optional\">2,043/274.1</td>\n",
       "<td class=\"standings-table__optional\">2,012/274.5</td>\n",
       "<td class=\"standings-table__highlight js-points\">18</td>\n",
       "<td> <ul class=\"standings-table__form\">\n",
       "<li class=\"standings-table__outcome standings-table__outcome--loss standings-table__optional\">L</li>\n",
       "<li class=\"standings-table__outcome standings-table__outcome--win standings-table__optional\">W</li>\n",
       "<li class=\"standings-table__outcome standings-table__outcome--loss\">L</li>\n",
       "<li class=\"standings-table__outcome standings-table__outcome--win\">W</li>\n",
       "<li class=\"standings-table__outcome standings-table__outcome--loss\">L</li>\n",
       "</ul>\n",
       "</td>\n",
       "</tr>\n",
       "<tr>\n",
       "<td class=\"standings-table__qualified standings-table__freeze u-text-center\">Q</td>\n",
       "<td class=\"standings-table__team standings-table__freeze\">\n",
       "<i class=\"table__logo tLogo40x32 DC\"></i>\n",
       "<a href=\"/teams/delhi-capitals\">\n",
       "<span class=\"standings-table__team-name js-team\">Delhi Capitals</span>\n",
       "<span class=\"standings-table__team-name standings-table__team-name--short js-team\">DC</span>\n",
       "</a>\n",
       "</td>\n",
       "<td class=\"standings-table__padded\">14</td>\n",
       "<td class=\"standings-table__optional\">9</td>\n",
       "<td class=\"standings-table__optional\">5</td>\n",
       "<td class=\"standings-table__optional\">0</td>\n",
       "<td class=\"standings-table__optional\">0</td>\n",
       "<td>+0.044</td>\n",
       "<td class=\"standings-table__optional\">2,207/272.5</td>\n",
       "<td class=\"standings-table__optional\">2,238/278.1</td>\n",
       "<td class=\"standings-table__highlight js-points\">18</td>\n",
       "<td> <ul class=\"standings-table__form\">\n",
       "<li class=\"standings-table__outcome standings-table__outcome--win standings-table__optional\">W</li>\n",
       "<li class=\"standings-table__outcome standings-table__outcome--win standings-table__optional\">W</li>\n",
       "<li class=\"standings-table__outcome standings-table__outcome--win\">W</li>\n",
       "<li class=\"standings-table__outcome standings-table__outcome--loss\">L</li>\n",
       "<li class=\"standings-table__outcome standings-table__outcome--win\">W</li>\n",
       "</ul>\n",
       "</td>\n",
       "</tr>\n",
       "<tr>\n",
       "<td class=\"standings-table__qualified standings-table__freeze u-text-center\">Q</td>\n",
       "<td class=\"standings-table__team standings-table__freeze\">\n",
       "<i class=\"table__logo tLogo40x32 SRH\"></i>\n",
       "<a href=\"/teams/sunrisers-hyderabad\">\n",
       "<span class=\"standings-table__team-name js-team\">Sunrisers Hyderabad</span>\n",
       "<span class=\"standings-table__team-name standings-table__team-name--short js-team\">SRH</span>\n",
       "</a>\n",
       "</td>\n",
       "<td class=\"standings-table__padded\">14</td>\n",
       "<td class=\"standings-table__optional\">6</td>\n",
       "<td class=\"standings-table__optional\">8</td>\n",
       "<td class=\"standings-table__optional\">0</td>\n",
       "<td class=\"standings-table__optional\">0</td>\n",
       "<td>+0.577</td>\n",
       "<td class=\"standings-table__optional\">2,288/269.2</td>\n",
       "<td class=\"standings-table__optional\">2,200/277.5</td>\n",
       "<td class=\"standings-table__highlight js-points\">12</td>\n",
       "<td> <ul class=\"standings-table__form\">\n",
       "<li class=\"standings-table__outcome standings-table__outcome--loss standings-table__optional\">L</li>\n",
       "<li class=\"standings-table__outcome standings-table__outcome--loss standings-table__optional\">L</li>\n",
       "<li class=\"standings-table__outcome standings-table__outcome--win\">W</li>\n",
       "<li class=\"standings-table__outcome standings-table__outcome--loss\">L</li>\n",
       "<li class=\"standings-table__outcome standings-table__outcome--loss\">L</li>\n",
       "</ul>\n",
       "</td>\n",
       "</tr>\n",
       "<tr>\n",
       "<td class=\"standings-table__freeze u-text-center\">5</td>\n",
       "<td class=\"standings-table__team standings-table__freeze\">\n",
       "<i class=\"table__logo tLogo40x32 KKR\"></i>\n",
       "<a href=\"/teams/kolkata-knight-riders\">\n",
       "<span class=\"standings-table__team-name js-team\">Kolkata Knight Riders</span>\n",
       "<span class=\"standings-table__team-name standings-table__team-name--short js-team\">KKR</span>\n",
       "</a>\n",
       "</td>\n",
       "<td class=\"standings-table__padded\">14</td>\n",
       "<td class=\"standings-table__optional\">6</td>\n",
       "<td class=\"standings-table__optional\">8</td>\n",
       "<td class=\"standings-table__optional\">0</td>\n",
       "<td class=\"standings-table__optional\">0</td>\n",
       "<td>+0.028</td>\n",
       "<td class=\"standings-table__optional\">2,466/270.4</td>\n",
       "<td class=\"standings-table__optional\">2,419/266.2</td>\n",
       "<td class=\"standings-table__highlight js-points\">12</td>\n",
       "<td> <ul class=\"standings-table__form\">\n",
       "<li class=\"standings-table__outcome standings-table__outcome--loss standings-table__optional\">L</li>\n",
       "<li class=\"standings-table__outcome standings-table__outcome--loss standings-table__optional\">L</li>\n",
       "<li class=\"standings-table__outcome standings-table__outcome--win\">W</li>\n",
       "<li class=\"standings-table__outcome standings-table__outcome--win\">W</li>\n",
       "<li class=\"standings-table__outcome standings-table__outcome--loss\">L</li>\n",
       "</ul>\n",
       "</td>\n",
       "</tr>\n",
       "<tr>\n",
       "<td class=\"standings-table__freeze u-text-center\">6</td>\n",
       "<td class=\"standings-table__team standings-table__freeze\">\n",
       "<i class=\"table__logo tLogo40x32 KXIP\"></i>\n",
       "<a href=\"/teams/kings-xi-punjab\">\n",
       "<span class=\"standings-table__team-name js-team\">Kings XI Punjab</span>\n",
       "<span class=\"standings-table__team-name standings-table__team-name--short js-team\">KXIP</span>\n",
       "</a>\n",
       "</td>\n",
       "<td class=\"standings-table__padded\">14</td>\n",
       "<td class=\"standings-table__optional\">6</td>\n",
       "<td class=\"standings-table__optional\">8</td>\n",
       "<td class=\"standings-table__optional\">0</td>\n",
       "<td class=\"standings-table__optional\">0</td>\n",
       "<td>-0.251</td>\n",
       "<td class=\"standings-table__optional\">2,429/276.3</td>\n",
       "<td class=\"standings-table__optional\">2,503/277</td>\n",
       "<td class=\"standings-table__highlight js-points\">12</td>\n",
       "<td> <ul class=\"standings-table__form\">\n",
       "<li class=\"standings-table__outcome standings-table__outcome--loss standings-table__optional\">L</li>\n",
       "<li class=\"standings-table__outcome standings-table__outcome--loss standings-table__optional\">L</li>\n",
       "<li class=\"standings-table__outcome standings-table__outcome--loss\">L</li>\n",
       "<li class=\"standings-table__outcome standings-table__outcome--loss\">L</li>\n",
       "<li class=\"standings-table__outcome standings-table__outcome--win\">W</li>\n",
       "</ul>\n",
       "</td>\n",
       "</tr>\n",
       "<tr>\n",
       "<td class=\"standings-table__freeze u-text-center\">7</td>\n",
       "<td class=\"standings-table__team standings-table__freeze\">\n",
       "<i class=\"table__logo tLogo40x32 RR\"></i>\n",
       "<a href=\"/teams/rajasthan-royals\">\n",
       "<span class=\"standings-table__team-name js-team\">Rajasthan Royals</span>\n",
       "<span class=\"standings-table__team-name standings-table__team-name--short js-team\">RR</span>\n",
       "</a>\n",
       "</td>\n",
       "<td class=\"standings-table__padded\">14</td>\n",
       "<td class=\"standings-table__optional\">5</td>\n",
       "<td class=\"standings-table__optional\">8</td>\n",
       "<td class=\"standings-table__optional\">0</td>\n",
       "<td class=\"standings-table__optional\">1</td>\n",
       "<td>-0.449</td>\n",
       "<td class=\"standings-table__optional\">2,153/257</td>\n",
       "<td class=\"standings-table__optional\">2,192/248.2</td>\n",
       "<td class=\"standings-table__highlight js-points\">11</td>\n",
       "<td> <ul class=\"standings-table__form\">\n",
       "<li class=\"standings-table__outcome standings-table__outcome--loss standings-table__optional\">L</li>\n",
       "<li class=\"standings-table__outcome standings-table__outcome--win standings-table__optional\">W</li>\n",
       "<li class=\"standings-table__outcome standings-table__outcome--win\">W</li>\n",
       "<li class=\"standings-table__outcome\">N</li>\n",
       "<li class=\"standings-table__outcome standings-table__outcome--loss\">L</li>\n",
       "</ul>\n",
       "</td>\n",
       "</tr>\n",
       "<tr>\n",
       "<td class=\"standings-table__freeze u-text-center\">8</td>\n",
       "<td class=\"standings-table__team standings-table__freeze\">\n",
       "<i class=\"table__logo tLogo40x32 RCB\"></i>\n",
       "<a href=\"/teams/royal-challengers-bangalore\">\n",
       "<span class=\"standings-table__team-name js-team\">Royal Challengers Bangalore</span>\n",
       "<span class=\"standings-table__team-name standings-table__team-name--short js-team\">RCB</span>\n",
       "</a>\n",
       "</td>\n",
       "<td class=\"standings-table__padded\">14</td>\n",
       "<td class=\"standings-table__optional\">5</td>\n",
       "<td class=\"standings-table__optional\">8</td>\n",
       "<td class=\"standings-table__optional\">0</td>\n",
       "<td class=\"standings-table__optional\">1</td>\n",
       "<td>-0.607</td>\n",
       "<td class=\"standings-table__optional\">2,146/258.4</td>\n",
       "<td class=\"standings-table__optional\">2,266/254.3</td>\n",
       "<td class=\"standings-table__highlight js-points\">11</td>\n",
       "<td> <ul class=\"standings-table__form\">\n",
       "<li class=\"standings-table__outcome standings-table__outcome--win standings-table__optional\">W</li>\n",
       "<li class=\"standings-table__outcome standings-table__outcome--win standings-table__optional\">W</li>\n",
       "<li class=\"standings-table__outcome standings-table__outcome--loss\">L</li>\n",
       "<li class=\"standings-table__outcome\">N</li>\n",
       "<li class=\"standings-table__outcome standings-table__outcome--win\">W</li>\n",
       "</ul>\n",
       "</td>\n",
       "</tr>\n",
       "</table>"
      ]
     },
     "execution_count": 97,
     "metadata": {},
     "output_type": "execute_result"
    }
   ],
   "source": [
    "tbl"
   ]
  },
  {
   "cell_type": "code",
   "execution_count": 201,
   "metadata": {},
   "outputs": [],
   "source": [
    "col_names1 = [x.get_text() for x in tbl.find_all('th',class_=\"standings-table__padded\")]"
   ]
  },
  {
   "cell_type": "code",
   "execution_count": 202,
   "metadata": {},
   "outputs": [
    {
     "data": {
      "text/plain": [
       "['Pld']"
      ]
     },
     "execution_count": 202,
     "metadata": {},
     "output_type": "execute_result"
    }
   ],
   "source": [
    "col_names1"
   ]
  },
  {
   "cell_type": "code",
   "execution_count": 121,
   "metadata": {},
   "outputs": [],
   "source": [
    "col_names =[x.get_text() for x in tbl.find_all('th',class_=\"standings-table__optional\")]"
   ]
  },
  {
   "cell_type": "code",
   "execution_count": 122,
   "metadata": {},
   "outputs": [
    {
     "data": {
      "text/plain": [
       "['Won', 'Lost', 'Tied', 'N/R', 'For', 'Against']"
      ]
     },
     "execution_count": 122,
     "metadata": {},
     "output_type": "execute_result"
    }
   ],
   "source": [
    "col_names"
   ]
  },
  {
   "cell_type": "code",
   "execution_count": 105,
   "metadata": {},
   "outputs": [],
   "source": [
    "col_names[4]='net_rate'"
   ]
  },
  {
   "cell_type": "code",
   "execution_count": 238,
   "metadata": {},
   "outputs": [],
   "source": [
    "team_names = [x.get_text() for x in tbl.find_all('span',class_=\"standings-table__team-name\")]"
   ]
  },
  {
   "cell_type": "code",
   "execution_count": 239,
   "metadata": {},
   "outputs": [
    {
     "data": {
      "text/plain": [
       "['Mumbai Indians',\n",
       " 'Chennai Super Kings',\n",
       " 'Delhi Capitals',\n",
       " 'Sunrisers Hyderabad',\n",
       " 'Kolkata Knight Riders',\n",
       " 'Kings XI Punjab',\n",
       " 'Rajasthan Royals',\n",
       " 'Royal Challengers Bangalore']"
      ]
     },
     "execution_count": 239,
     "metadata": {},
     "output_type": "execute_result"
    }
   ],
   "source": [
    "team_names[0::2]"
   ]
  },
  {
   "cell_type": "code",
   "execution_count": 203,
   "metadata": {},
   "outputs": [],
   "source": [
    "pnt_tbl1 = [x.get_text() for x in tbl.find_all('td',class_=\"standings-table__padded\")]"
   ]
  },
  {
   "cell_type": "code",
   "execution_count": 210,
   "metadata": {},
   "outputs": [
    {
     "data": {
      "text/plain": [
       "['14', '14', '14', '14', '14', '14', '14', '14']"
      ]
     },
     "execution_count": 210,
     "metadata": {},
     "output_type": "execute_result"
    }
   ],
   "source": [
    "pnt_tbl1"
   ]
  },
  {
   "cell_type": "code",
   "execution_count": 126,
   "metadata": {},
   "outputs": [],
   "source": [
    "pnt_tbl = [x.get_text() for x in tbl.find_all('td',class_=\"standings-table__optional\")]"
   ]
  },
  {
   "cell_type": "code",
   "execution_count": 253,
   "metadata": {},
   "outputs": [
    {
     "data": {
      "text/plain": [
       "['9',\n",
       " '5',\n",
       " '0',\n",
       " '0',\n",
       " '2,380/275.1',\n",
       " '2,282/277.2',\n",
       " '9',\n",
       " '5',\n",
       " '0',\n",
       " '0',\n",
       " '2,043/274.1',\n",
       " '2,012/274.5',\n",
       " '9',\n",
       " '5',\n",
       " '0',\n",
       " '0',\n",
       " '2,207/272.5',\n",
       " '2,238/278.1',\n",
       " '6',\n",
       " '8',\n",
       " '0',\n",
       " '0',\n",
       " '2,288/269.2',\n",
       " '2,200/277.5',\n",
       " '6',\n",
       " '8',\n",
       " '0',\n",
       " '0',\n",
       " '2,466/270.4',\n",
       " '2,419/266.2',\n",
       " '6',\n",
       " '8',\n",
       " '0',\n",
       " '0',\n",
       " '2,429/276.3',\n",
       " '2,503/277',\n",
       " '5',\n",
       " '8',\n",
       " '0',\n",
       " '1',\n",
       " '2,153/257',\n",
       " '2,192/248.2',\n",
       " '5',\n",
       " '8',\n",
       " '0',\n",
       " '1',\n",
       " '2,146/258.4',\n",
       " '2,266/254.3']"
      ]
     },
     "execution_count": 253,
     "metadata": {},
     "output_type": "execute_result"
    }
   ],
   "source": [
    "pnt_tbl"
   ]
  },
  {
   "cell_type": "code",
   "execution_count": 83,
   "metadata": {},
   "outputs": [
    {
     "data": {
      "text/plain": [
       "48"
      ]
     },
     "execution_count": 83,
     "metadata": {},
     "output_type": "execute_result"
    }
   ],
   "source": [
    "len(pnt_tbl)"
   ]
  },
  {
   "cell_type": "code",
   "execution_count": 54,
   "metadata": {},
   "outputs": [],
   "source": [
    "import numpy as np"
   ]
  },
  {
   "cell_type": "code",
   "execution_count": 183,
   "metadata": {},
   "outputs": [],
   "source": [
    "np_pnt_tbl = (np.array(pnt_tbl)).reshape(len(team_names[0::2]),6)                                       "
   ]
  },
  {
   "cell_type": "code",
   "execution_count": 175,
   "metadata": {},
   "outputs": [],
   "source": [
    "#np_pnt_tbl  =np.delete(np_pnt_tbl,5,1)"
   ]
  },
  {
   "cell_type": "code",
   "execution_count": 184,
   "metadata": {},
   "outputs": [
    {
     "data": {
      "text/plain": [
       "array([['9', '5', '0', '0', '2,380/275.1', '2,282/277.2'],\n",
       "       ['9', '5', '0', '0', '2,043/274.1', '2,012/274.5'],\n",
       "       ['9', '5', '0', '0', '2,207/272.5', '2,238/278.1'],\n",
       "       ['6', '8', '0', '0', '2,288/269.2', '2,200/277.5'],\n",
       "       ['6', '8', '0', '0', '2,466/270.4', '2,419/266.2'],\n",
       "       ['6', '8', '0', '0', '2,429/276.3', '2,503/277'],\n",
       "       ['5', '8', '0', '1', '2,153/257', '2,192/248.2'],\n",
       "       ['5', '8', '0', '1', '2,146/258.4', '2,266/254.3']], dtype='<U11')"
      ]
     },
     "execution_count": 184,
     "metadata": {},
     "output_type": "execute_result"
    }
   ],
   "source": [
    "np_pnt_tbl"
   ]
  },
  {
   "cell_type": "code",
   "execution_count": 64,
   "metadata": {},
   "outputs": [],
   "source": [
    "import pandas as pd"
   ]
  },
  {
   "cell_type": "code",
   "execution_count": 259,
   "metadata": {},
   "outputs": [],
   "source": [
    "consol_tbl = pd.DataFrame(np_pnt_tbl,index=team_names[0::2],columns=col_names)"
   ]
  },
  {
   "cell_type": "code",
   "execution_count": 260,
   "metadata": {},
   "outputs": [
    {
     "data": {
      "text/html": [
       "<div>\n",
       "<style scoped>\n",
       "    .dataframe tbody tr th:only-of-type {\n",
       "        vertical-align: middle;\n",
       "    }\n",
       "\n",
       "    .dataframe tbody tr th {\n",
       "        vertical-align: top;\n",
       "    }\n",
       "\n",
       "    .dataframe thead th {\n",
       "        text-align: right;\n",
       "    }\n",
       "</style>\n",
       "<table border=\"1\" class=\"dataframe\">\n",
       "  <thead>\n",
       "    <tr style=\"text-align: right;\">\n",
       "      <th></th>\n",
       "      <th>Won</th>\n",
       "      <th>Lost</th>\n",
       "      <th>Tied</th>\n",
       "      <th>N/R</th>\n",
       "      <th>For</th>\n",
       "      <th>Against</th>\n",
       "    </tr>\n",
       "  </thead>\n",
       "  <tbody>\n",
       "    <tr>\n",
       "      <th>Mumbai Indians</th>\n",
       "      <td>9</td>\n",
       "      <td>5</td>\n",
       "      <td>0</td>\n",
       "      <td>0</td>\n",
       "      <td>2,380/275.1</td>\n",
       "      <td>2,282/277.2</td>\n",
       "    </tr>\n",
       "    <tr>\n",
       "      <th>Chennai Super Kings</th>\n",
       "      <td>9</td>\n",
       "      <td>5</td>\n",
       "      <td>0</td>\n",
       "      <td>0</td>\n",
       "      <td>2,043/274.1</td>\n",
       "      <td>2,012/274.5</td>\n",
       "    </tr>\n",
       "    <tr>\n",
       "      <th>Delhi Capitals</th>\n",
       "      <td>9</td>\n",
       "      <td>5</td>\n",
       "      <td>0</td>\n",
       "      <td>0</td>\n",
       "      <td>2,207/272.5</td>\n",
       "      <td>2,238/278.1</td>\n",
       "    </tr>\n",
       "    <tr>\n",
       "      <th>Sunrisers Hyderabad</th>\n",
       "      <td>6</td>\n",
       "      <td>8</td>\n",
       "      <td>0</td>\n",
       "      <td>0</td>\n",
       "      <td>2,288/269.2</td>\n",
       "      <td>2,200/277.5</td>\n",
       "    </tr>\n",
       "    <tr>\n",
       "      <th>Kolkata Knight Riders</th>\n",
       "      <td>6</td>\n",
       "      <td>8</td>\n",
       "      <td>0</td>\n",
       "      <td>0</td>\n",
       "      <td>2,466/270.4</td>\n",
       "      <td>2,419/266.2</td>\n",
       "    </tr>\n",
       "    <tr>\n",
       "      <th>Kings XI Punjab</th>\n",
       "      <td>6</td>\n",
       "      <td>8</td>\n",
       "      <td>0</td>\n",
       "      <td>0</td>\n",
       "      <td>2,429/276.3</td>\n",
       "      <td>2,503/277</td>\n",
       "    </tr>\n",
       "    <tr>\n",
       "      <th>Rajasthan Royals</th>\n",
       "      <td>5</td>\n",
       "      <td>8</td>\n",
       "      <td>0</td>\n",
       "      <td>1</td>\n",
       "      <td>2,153/257</td>\n",
       "      <td>2,192/248.2</td>\n",
       "    </tr>\n",
       "    <tr>\n",
       "      <th>Royal Challengers Bangalore</th>\n",
       "      <td>5</td>\n",
       "      <td>8</td>\n",
       "      <td>0</td>\n",
       "      <td>1</td>\n",
       "      <td>2,146/258.4</td>\n",
       "      <td>2,266/254.3</td>\n",
       "    </tr>\n",
       "  </tbody>\n",
       "</table>\n",
       "</div>"
      ],
      "text/plain": [
       "                            Won Lost Tied N/R          For      Against\n",
       "Mumbai Indians                9    5    0   0  2,380/275.1  2,282/277.2\n",
       "Chennai Super Kings           9    5    0   0  2,043/274.1  2,012/274.5\n",
       "Delhi Capitals                9    5    0   0  2,207/272.5  2,238/278.1\n",
       "Sunrisers Hyderabad           6    8    0   0  2,288/269.2  2,200/277.5\n",
       "Kolkata Knight Riders         6    8    0   0  2,466/270.4  2,419/266.2\n",
       "Kings XI Punjab               6    8    0   0  2,429/276.3    2,503/277\n",
       "Rajasthan Royals              5    8    0   1    2,153/257  2,192/248.2\n",
       "Royal Challengers Bangalore   5    8    0   1  2,146/258.4  2,266/254.3"
      ]
     },
     "execution_count": 260,
     "metadata": {},
     "output_type": "execute_result"
    }
   ],
   "source": [
    "consol_tbl"
   ]
  },
  {
   "cell_type": "code",
   "execution_count": 261,
   "metadata": {},
   "outputs": [],
   "source": [
    "consol_tbl.columns.name='Team'"
   ]
  },
  {
   "cell_type": "code",
   "execution_count": 262,
   "metadata": {},
   "outputs": [
    {
     "data": {
      "text/html": [
       "<div>\n",
       "<style scoped>\n",
       "    .dataframe tbody tr th:only-of-type {\n",
       "        vertical-align: middle;\n",
       "    }\n",
       "\n",
       "    .dataframe tbody tr th {\n",
       "        vertical-align: top;\n",
       "    }\n",
       "\n",
       "    .dataframe thead th {\n",
       "        text-align: right;\n",
       "    }\n",
       "</style>\n",
       "<table border=\"1\" class=\"dataframe\">\n",
       "  <thead>\n",
       "    <tr style=\"text-align: right;\">\n",
       "      <th>Team</th>\n",
       "      <th>Won</th>\n",
       "      <th>Lost</th>\n",
       "      <th>Tied</th>\n",
       "      <th>N/R</th>\n",
       "      <th>For</th>\n",
       "      <th>Against</th>\n",
       "    </tr>\n",
       "  </thead>\n",
       "  <tbody>\n",
       "    <tr>\n",
       "      <th>Mumbai Indians</th>\n",
       "      <td>9</td>\n",
       "      <td>5</td>\n",
       "      <td>0</td>\n",
       "      <td>0</td>\n",
       "      <td>2,380/275.1</td>\n",
       "      <td>2,282/277.2</td>\n",
       "    </tr>\n",
       "    <tr>\n",
       "      <th>Chennai Super Kings</th>\n",
       "      <td>9</td>\n",
       "      <td>5</td>\n",
       "      <td>0</td>\n",
       "      <td>0</td>\n",
       "      <td>2,043/274.1</td>\n",
       "      <td>2,012/274.5</td>\n",
       "    </tr>\n",
       "    <tr>\n",
       "      <th>Delhi Capitals</th>\n",
       "      <td>9</td>\n",
       "      <td>5</td>\n",
       "      <td>0</td>\n",
       "      <td>0</td>\n",
       "      <td>2,207/272.5</td>\n",
       "      <td>2,238/278.1</td>\n",
       "    </tr>\n",
       "    <tr>\n",
       "      <th>Sunrisers Hyderabad</th>\n",
       "      <td>6</td>\n",
       "      <td>8</td>\n",
       "      <td>0</td>\n",
       "      <td>0</td>\n",
       "      <td>2,288/269.2</td>\n",
       "      <td>2,200/277.5</td>\n",
       "    </tr>\n",
       "    <tr>\n",
       "      <th>Kolkata Knight Riders</th>\n",
       "      <td>6</td>\n",
       "      <td>8</td>\n",
       "      <td>0</td>\n",
       "      <td>0</td>\n",
       "      <td>2,466/270.4</td>\n",
       "      <td>2,419/266.2</td>\n",
       "    </tr>\n",
       "    <tr>\n",
       "      <th>Kings XI Punjab</th>\n",
       "      <td>6</td>\n",
       "      <td>8</td>\n",
       "      <td>0</td>\n",
       "      <td>0</td>\n",
       "      <td>2,429/276.3</td>\n",
       "      <td>2,503/277</td>\n",
       "    </tr>\n",
       "    <tr>\n",
       "      <th>Rajasthan Royals</th>\n",
       "      <td>5</td>\n",
       "      <td>8</td>\n",
       "      <td>0</td>\n",
       "      <td>1</td>\n",
       "      <td>2,153/257</td>\n",
       "      <td>2,192/248.2</td>\n",
       "    </tr>\n",
       "    <tr>\n",
       "      <th>Royal Challengers Bangalore</th>\n",
       "      <td>5</td>\n",
       "      <td>8</td>\n",
       "      <td>0</td>\n",
       "      <td>1</td>\n",
       "      <td>2,146/258.4</td>\n",
       "      <td>2,266/254.3</td>\n",
       "    </tr>\n",
       "  </tbody>\n",
       "</table>\n",
       "</div>"
      ],
      "text/plain": [
       "Team                        Won Lost Tied N/R          For      Against\n",
       "Mumbai Indians                9    5    0   0  2,380/275.1  2,282/277.2\n",
       "Chennai Super Kings           9    5    0   0  2,043/274.1  2,012/274.5\n",
       "Delhi Capitals                9    5    0   0  2,207/272.5  2,238/278.1\n",
       "Sunrisers Hyderabad           6    8    0   0  2,288/269.2  2,200/277.5\n",
       "Kolkata Knight Riders         6    8    0   0  2,466/270.4  2,419/266.2\n",
       "Kings XI Punjab               6    8    0   0  2,429/276.3    2,503/277\n",
       "Rajasthan Royals              5    8    0   1    2,153/257  2,192/248.2\n",
       "Royal Challengers Bangalore   5    8    0   1  2,146/258.4  2,266/254.3"
      ]
     },
     "execution_count": 262,
     "metadata": {},
     "output_type": "execute_result"
    }
   ],
   "source": [
    "consol_tbl"
   ]
  },
  {
   "cell_type": "code",
   "execution_count": 263,
   "metadata": {},
   "outputs": [],
   "source": [
    "Pld = pnt_tbl1"
   ]
  },
  {
   "cell_type": "code",
   "execution_count": 264,
   "metadata": {},
   "outputs": [],
   "source": [
    "consol_tbl.insert(0,'Pld',Pld)"
   ]
  },
  {
   "cell_type": "code",
   "execution_count": 230,
   "metadata": {},
   "outputs": [
    {
     "data": {
      "text/html": [
       "<div>\n",
       "<style scoped>\n",
       "    .dataframe tbody tr th:only-of-type {\n",
       "        vertical-align: middle;\n",
       "    }\n",
       "\n",
       "    .dataframe tbody tr th {\n",
       "        vertical-align: top;\n",
       "    }\n",
       "\n",
       "    .dataframe thead th {\n",
       "        text-align: right;\n",
       "    }\n",
       "</style>\n",
       "<table border=\"1\" class=\"dataframe\">\n",
       "  <thead>\n",
       "    <tr style=\"text-align: right;\">\n",
       "      <th>Team</th>\n",
       "      <th>Pld</th>\n",
       "      <th>Won</th>\n",
       "      <th>Lost</th>\n",
       "      <th>Tied</th>\n",
       "      <th>N/R</th>\n",
       "      <th>For</th>\n",
       "      <th>Against</th>\n",
       "    </tr>\n",
       "  </thead>\n",
       "  <tbody>\n",
       "    <tr>\n",
       "      <th>Mumbai Indians</th>\n",
       "      <td>14</td>\n",
       "      <td>9</td>\n",
       "      <td>5</td>\n",
       "      <td>0</td>\n",
       "      <td>0</td>\n",
       "      <td>2,380/275.1</td>\n",
       "      <td>2,282/277.2</td>\n",
       "    </tr>\n",
       "    <tr>\n",
       "      <th>Chennai Super Kings</th>\n",
       "      <td>14</td>\n",
       "      <td>9</td>\n",
       "      <td>5</td>\n",
       "      <td>0</td>\n",
       "      <td>0</td>\n",
       "      <td>2,043/274.1</td>\n",
       "      <td>2,012/274.5</td>\n",
       "    </tr>\n",
       "    <tr>\n",
       "      <th>Delhi Capitals</th>\n",
       "      <td>14</td>\n",
       "      <td>9</td>\n",
       "      <td>5</td>\n",
       "      <td>0</td>\n",
       "      <td>0</td>\n",
       "      <td>2,207/272.5</td>\n",
       "      <td>2,238/278.1</td>\n",
       "    </tr>\n",
       "    <tr>\n",
       "      <th>Sunrisers Hyderabad</th>\n",
       "      <td>14</td>\n",
       "      <td>6</td>\n",
       "      <td>8</td>\n",
       "      <td>0</td>\n",
       "      <td>0</td>\n",
       "      <td>2,288/269.2</td>\n",
       "      <td>2,200/277.5</td>\n",
       "    </tr>\n",
       "    <tr>\n",
       "      <th>Kolkata Knight Riders</th>\n",
       "      <td>14</td>\n",
       "      <td>6</td>\n",
       "      <td>8</td>\n",
       "      <td>0</td>\n",
       "      <td>0</td>\n",
       "      <td>2,466/270.4</td>\n",
       "      <td>2,419/266.2</td>\n",
       "    </tr>\n",
       "    <tr>\n",
       "      <th>Kings XI Punjab</th>\n",
       "      <td>14</td>\n",
       "      <td>6</td>\n",
       "      <td>8</td>\n",
       "      <td>0</td>\n",
       "      <td>0</td>\n",
       "      <td>2,429/276.3</td>\n",
       "      <td>2,503/277</td>\n",
       "    </tr>\n",
       "    <tr>\n",
       "      <th>Rajasthan Royals</th>\n",
       "      <td>14</td>\n",
       "      <td>5</td>\n",
       "      <td>8</td>\n",
       "      <td>0</td>\n",
       "      <td>1</td>\n",
       "      <td>2,153/257</td>\n",
       "      <td>2,192/248.2</td>\n",
       "    </tr>\n",
       "    <tr>\n",
       "      <th>Royal Challengers Bangalore</th>\n",
       "      <td>14</td>\n",
       "      <td>5</td>\n",
       "      <td>8</td>\n",
       "      <td>0</td>\n",
       "      <td>1</td>\n",
       "      <td>2,146/258.4</td>\n",
       "      <td>2,266/254.3</td>\n",
       "    </tr>\n",
       "  </tbody>\n",
       "</table>\n",
       "</div>"
      ],
      "text/plain": [
       "Team                        Pld Won Lost Tied N/R          For      Against\n",
       "Mumbai Indians               14   9    5    0   0  2,380/275.1  2,282/277.2\n",
       "Chennai Super Kings          14   9    5    0   0  2,043/274.1  2,012/274.5\n",
       "Delhi Capitals               14   9    5    0   0  2,207/272.5  2,238/278.1\n",
       "Sunrisers Hyderabad          14   6    8    0   0  2,288/269.2  2,200/277.5\n",
       "Kolkata Knight Riders        14   6    8    0   0  2,466/270.4  2,419/266.2\n",
       "Kings XI Punjab              14   6    8    0   0  2,429/276.3    2,503/277\n",
       "Rajasthan Royals             14   5    8    0   1    2,153/257  2,192/248.2\n",
       "Royal Challengers Bangalore  14   5    8    0   1  2,146/258.4  2,266/254.3"
      ]
     },
     "execution_count": 230,
     "metadata": {},
     "output_type": "execute_result"
    }
   ],
   "source": [
    "consol_tbl"
   ]
  },
  {
   "cell_type": "code",
   "execution_count": 265,
   "metadata": {},
   "outputs": [],
   "source": [
    "Pts = [18,18,18,12,12,12,11,11]"
   ]
  },
  {
   "cell_type": "code",
   "execution_count": 266,
   "metadata": {},
   "outputs": [],
   "source": [
    "consol_tbl.insert(7,'Pts',Pts)"
   ]
  },
  {
   "cell_type": "code",
   "execution_count": 269,
   "metadata": {},
   "outputs": [
    {
     "data": {
      "text/html": [
       "<div>\n",
       "<style scoped>\n",
       "    .dataframe tbody tr th:only-of-type {\n",
       "        vertical-align: middle;\n",
       "    }\n",
       "\n",
       "    .dataframe tbody tr th {\n",
       "        vertical-align: top;\n",
       "    }\n",
       "\n",
       "    .dataframe thead th {\n",
       "        text-align: right;\n",
       "    }\n",
       "</style>\n",
       "<table border=\"1\" class=\"dataframe\">\n",
       "  <thead>\n",
       "    <tr style=\"text-align: right;\">\n",
       "      <th>Team</th>\n",
       "      <th>Pld</th>\n",
       "      <th>Won</th>\n",
       "      <th>Lost</th>\n",
       "      <th>Tied</th>\n",
       "      <th>N/R</th>\n",
       "      <th>For</th>\n",
       "      <th>Against</th>\n",
       "      <th>Pts</th>\n",
       "    </tr>\n",
       "  </thead>\n",
       "  <tbody>\n",
       "    <tr>\n",
       "      <th>Mumbai Indians</th>\n",
       "      <td>14</td>\n",
       "      <td>9</td>\n",
       "      <td>5</td>\n",
       "      <td>0</td>\n",
       "      <td>0</td>\n",
       "      <td>2,380/275.1</td>\n",
       "      <td>2,282/277.2</td>\n",
       "      <td>18</td>\n",
       "    </tr>\n",
       "    <tr>\n",
       "      <th>Chennai Super Kings</th>\n",
       "      <td>14</td>\n",
       "      <td>9</td>\n",
       "      <td>5</td>\n",
       "      <td>0</td>\n",
       "      <td>0</td>\n",
       "      <td>2,043/274.1</td>\n",
       "      <td>2,012/274.5</td>\n",
       "      <td>18</td>\n",
       "    </tr>\n",
       "    <tr>\n",
       "      <th>Delhi Capitals</th>\n",
       "      <td>14</td>\n",
       "      <td>9</td>\n",
       "      <td>5</td>\n",
       "      <td>0</td>\n",
       "      <td>0</td>\n",
       "      <td>2,207/272.5</td>\n",
       "      <td>2,238/278.1</td>\n",
       "      <td>18</td>\n",
       "    </tr>\n",
       "    <tr>\n",
       "      <th>Sunrisers Hyderabad</th>\n",
       "      <td>14</td>\n",
       "      <td>6</td>\n",
       "      <td>8</td>\n",
       "      <td>0</td>\n",
       "      <td>0</td>\n",
       "      <td>2,288/269.2</td>\n",
       "      <td>2,200/277.5</td>\n",
       "      <td>12</td>\n",
       "    </tr>\n",
       "    <tr>\n",
       "      <th>Kolkata Knight Riders</th>\n",
       "      <td>14</td>\n",
       "      <td>6</td>\n",
       "      <td>8</td>\n",
       "      <td>0</td>\n",
       "      <td>0</td>\n",
       "      <td>2,466/270.4</td>\n",
       "      <td>2,419/266.2</td>\n",
       "      <td>12</td>\n",
       "    </tr>\n",
       "    <tr>\n",
       "      <th>Kings XI Punjab</th>\n",
       "      <td>14</td>\n",
       "      <td>6</td>\n",
       "      <td>8</td>\n",
       "      <td>0</td>\n",
       "      <td>0</td>\n",
       "      <td>2,429/276.3</td>\n",
       "      <td>2,503/277</td>\n",
       "      <td>12</td>\n",
       "    </tr>\n",
       "    <tr>\n",
       "      <th>Rajasthan Royals</th>\n",
       "      <td>14</td>\n",
       "      <td>5</td>\n",
       "      <td>8</td>\n",
       "      <td>0</td>\n",
       "      <td>1</td>\n",
       "      <td>2,153/257</td>\n",
       "      <td>2,192/248.2</td>\n",
       "      <td>11</td>\n",
       "    </tr>\n",
       "    <tr>\n",
       "      <th>Royal Challengers Bangalore</th>\n",
       "      <td>14</td>\n",
       "      <td>5</td>\n",
       "      <td>8</td>\n",
       "      <td>0</td>\n",
       "      <td>1</td>\n",
       "      <td>2,146/258.4</td>\n",
       "      <td>2,266/254.3</td>\n",
       "      <td>11</td>\n",
       "    </tr>\n",
       "  </tbody>\n",
       "</table>\n",
       "</div>"
      ],
      "text/plain": [
       "Team                        Pld Won Lost Tied N/R          For      Against  \\\n",
       "Mumbai Indians               14   9    5    0   0  2,380/275.1  2,282/277.2   \n",
       "Chennai Super Kings          14   9    5    0   0  2,043/274.1  2,012/274.5   \n",
       "Delhi Capitals               14   9    5    0   0  2,207/272.5  2,238/278.1   \n",
       "Sunrisers Hyderabad          14   6    8    0   0  2,288/269.2  2,200/277.5   \n",
       "Kolkata Knight Riders        14   6    8    0   0  2,466/270.4  2,419/266.2   \n",
       "Kings XI Punjab              14   6    8    0   0  2,429/276.3    2,503/277   \n",
       "Rajasthan Royals             14   5    8    0   1    2,153/257  2,192/248.2   \n",
       "Royal Challengers Bangalore  14   5    8    0   1  2,146/258.4  2,266/254.3   \n",
       "\n",
       "Team                         Pts  \n",
       "Mumbai Indians                18  \n",
       "Chennai Super Kings           18  \n",
       "Delhi Capitals                18  \n",
       "Sunrisers Hyderabad           12  \n",
       "Kolkata Knight Riders         12  \n",
       "Kings XI Punjab               12  \n",
       "Rajasthan Royals              11  \n",
       "Royal Challengers Bangalore   11  "
      ]
     },
     "execution_count": 269,
     "metadata": {},
     "output_type": "execute_result"
    }
   ],
   "source": [
    "consol_tbl"
   ]
  },
  {
   "cell_type": "code",
   "execution_count": 270,
   "metadata": {},
   "outputs": [],
   "source": [
    "consol_tbl.to_csv(\"ipl_2019_Points_table.csv\")"
   ]
  },
  {
   "cell_type": "code",
   "execution_count": null,
   "metadata": {},
   "outputs": [],
   "source": []
  }
 ],
 "metadata": {
  "kernelspec": {
   "display_name": "Python 3",
   "language": "python",
   "name": "python3"
  },
  "language_info": {
   "codemirror_mode": {
    "name": "ipython",
    "version": 3
   },
   "file_extension": ".py",
   "mimetype": "text/x-python",
   "name": "python",
   "nbconvert_exporter": "python",
   "pygments_lexer": "ipython3",
   "version": "3.7.5"
  }
 },
 "nbformat": 4,
 "nbformat_minor": 4
}
